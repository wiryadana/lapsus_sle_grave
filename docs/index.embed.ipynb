{
 "cells": [
  {
   "cell_type": "markdown",
   "metadata": {},
   "source": [
    "# Penyakit Graves pada seorang perempuan dengan Sistemik Lupus\n",
    "\n",
    "Eritematosus\n",
    "\n",
    "dr. Kadek Adit Wiryadana (Universitas Udayana)  \n",
    "dr. I Made Siswadi Semadi, M.Biomed, SpPD, K-EMD (Universitas Udayana)  \n",
    "dr. Pande Ketut Kurniari, SpPD, K-R (Universitas Udayana)"
   ],
   "id": "c085f7e6-b419-48d8-89eb-0e89f52db039"
  },
  {
   "cell_type": "code",
   "execution_count": null,
   "metadata": {},
   "outputs": [
    {
     "output_type": "stream",
     "name": "stderr",
     "text": [
      "── Attaching core tidyverse packages ──────────────────────── tidyverse 2.0.0 ──\n",
      "✔ dplyr     1.1.4     ✔ readr     2.1.5\n",
      "✔ forcats   1.0.0     ✔ stringr   1.5.0\n",
      "✔ ggplot2   3.5.1     ✔ tibble    3.2.1\n",
      "✔ lubridate 1.9.3     ✔ tidyr     1.3.1\n",
      "✔ purrr     1.0.2     \n",
      "── Conflicts ────────────────────────────────────────── tidyverse_conflicts() ──\n",
      "✖ purrr::%||%()   masks base::%||%()\n",
      "✖ dplyr::filter() masks stats::filter()\n",
      "✖ dplyr::lag()    masks stats::lag()\n",
      "ℹ Use the conflicted package (<http://conflicted.r-lib.org/>) to force all conflicts to become errors"
     ]
    }
   ],
   "source": [
    "library(\"tidyverse\")"
   ],
   "id": "e13ae2d8-965a-4f55-b56b-a17ee71032fb"
  },
  {
   "cell_type": "markdown",
   "metadata": {},
   "source": [
    "## Abstrak\n",
    "\n",
    "## Pendahuluan\n",
    "\n",
    "Koinsidensi penyakit graves dan sistemik lupus eritematosus (SLE) belakangan ini mendapat perhatian lebih karena ditemukan memiliki hubungan yang tidak sekedar sesuatu yang terjadi secara acak. Hubungan kausal antara kedua entitas penyakit automimun tersebut masih belum banyak diketahui dan saat ini masih terdapat berbagai penelitian yang mendalami hal tersebut.\\[@xian2024\\] Penyakit graves merupakan salah satu penyakit autoimun pada organ endokrin thyroid dan merupakan penyebab utama hipertiroidisme.\\[@smith2016\\] Insiden enyakit Graves sebagai penyakit autoimun termasuk cukup tinggi dengan rentang 20 - 50 kasus per 100.000 individual serta tingkat prevalensi diperkirakan 1 - 1.5%.\\[@davies2020\\] Penyakit graves memilki target organ khusus, namun koinsidensi dengan penyakit autoimun lain seperti SLE, Rheumatoid arthritis, multiple sclerosis, diabetes tipe 1 dan lainnya diperkirakan sekitar 16.7% dari total pasien dengan penyakit graves. Data lebih lanjut dari laporan serial kasus terbaru. juga menunjukan bahwa persentase pasien dengan penyakit Graves juga ditemukan memiliki 3 penyakit autoimun lain sebesar 1.5%.\\[@ferrari2019\\]\n",
    "\n",
    "SLE merupakan penyakit yang memiliki variasi spektrum klinis yang luas akibat terget organ multipel dan heterogen. Penelitian kohort multisenter di China menemukan bahwa individu dengan penyakit graves lebih rentan mengalami SLE dibanding individu kontrol yang sehat.\\[@lee2020\\] Penelitian terbaru dari Xian et al dengan analisis randomisasi mendelian menemukan bahwa terdapat korelasi antara penyakit graves dan SLE, dan masing-masing entitas autoimun tersebut saling mendukung untuk koinsidensi autoimun lainnya. Temuan-temuan ini memberikan gambaran bahwa pada praktik klinis diharapkan klinisi dapat meningkatkan skrining penyakit autoimun khususnya penyakit graves atau SLE saat menegakan diagnosis salah satu penyakit autoimun tersebut.\\[@xian2024\\] Laporan kasus ini memaparkan seorang pasien perempuan dengan krisis tiroid akibat penyakit graves yang sebelumnya diketahui memiliki penyakit SLE.\n",
    "\n",
    "## Laporan Kasus\n",
    "\n",
    "## Ringkasan\n",
    "\n",
    "## Daftar Pustaka"
   ],
   "id": "db78cd53-ac47-4736-aea6-21a124a24167"
  }
 ],
 "nbformat": 4,
 "nbformat_minor": 5,
 "metadata": {}
}
