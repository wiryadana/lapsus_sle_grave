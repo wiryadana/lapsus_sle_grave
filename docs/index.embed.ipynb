{
 "cells": [
  {
   "cell_type": "markdown",
   "metadata": {},
   "source": [
    "# Penyakit Graves pada seorang perempuan dengan Sistemik Lupus\n",
    "\n",
    "Eritematosus\n",
    "\n",
    "dr. Kadek Adit Wiryadana (Universitas Udayana)  \n",
    "dr. I Made Siswadi Semadi, M.Biomed, SpPD, K-EMD (Universitas Udayana)  \n",
    "dr. Pande Ketut Kurniari, SpPD, K-R (Universitas Udayana)"
   ],
   "id": "88a8f225-9846-495e-8aad-20717cb60efa"
  },
  {
   "cell_type": "code",
   "execution_count": null,
   "metadata": {},
   "outputs": [
    {
     "output_type": "stream",
     "name": "stderr",
     "text": [
      "── Attaching core tidyverse packages ──────────────────────── tidyverse 2.0.0 ──\n",
      "✔ dplyr     1.1.4     ✔ readr     2.1.5\n",
      "✔ forcats   1.0.0     ✔ stringr   1.5.0\n",
      "✔ ggplot2   3.5.1     ✔ tibble    3.2.1\n",
      "✔ lubridate 1.9.3     ✔ tidyr     1.3.1\n",
      "✔ purrr     1.0.2     \n",
      "── Conflicts ────────────────────────────────────────── tidyverse_conflicts() ──\n",
      "✖ purrr::%||%()   masks base::%||%()\n",
      "✖ dplyr::filter() masks stats::filter()\n",
      "✖ dplyr::lag()    masks stats::lag()\n",
      "ℹ Use the conflicted package (<http://conflicted.r-lib.org/>) to force all conflicts to become errors"
     ]
    }
   ],
   "source": [
    "library(\"tidyverse\")"
   ],
   "id": "3f28053a-b01b-413a-b313-99ff2e90adcc"
  },
  {
   "cell_type": "markdown",
   "metadata": {},
   "source": [
    "## Abstrak\n",
    "\n",
    "## Pendahuluan\n",
    "\n",
    "Koinsidensi penyakit graves dan sistemik lupus eritematosus (SLE) belakangan ini mendapat perhatian lebih karena ditemukan memiliki hubungan yang tidak sekedar sesuatu yang terjadi secara acak. Hubungan kausal antara kedua entitas penyakit automimun tersebut masih belum banyak diketahui dan saat ini masih terdapat berbagai penelitian yang mendalami hal tersebut.\\[@xian2024\\] Penyakit graves merupakan salah satu penyakit autoimun pada organ endokrin thyroid dan merupakan penyebab utama hipertiroidisme.\\[@smith2016\\] Insiden enyakit Graves sebagai penyakit autoimun termasuk cukup tinggi dengan rentang 20 - 50 kasus per 100.000 individual serta tingkat prevalensi diperkirakan 1 - 1.5%.\\[@davies2020\\] Penyakit graves memilki target organ khusus, namun koinsidensi dengan penyakit autoimun lain seperti SLE, Rheumatoid arthritis, multiple sclerosis, diabetes tipe 1 dan lainnya diperkirakan sekitar 16.7% dari total pasien dengan penyakit graves. Data lebih lanjut dari laporan serial kasus terbaru. juga menunjukan bahwa persentase pasien dengan penyakit Graves juga ditemukan memiliki 3 penyakit autoimun lain sebesar 1.5%.\\[@ferrari2019\\]\n",
    "\n",
    "SLE merupakan penyakit yang memiliki variasi spektrum klinis yang luas akibat terget organ multipel dan heterogen. Penelitian kohort multisenter di China menemukan bahwa individu dengan penyakit graves lebih rentan mengalami SLE dibanding individu kontrol yang sehat.\\[@lee2020\\] Penelitian terbaru dari Xian et al dengan analisis randomisasi mendelian menemukan bahwa terdapat korelasi antara penyakit graves dan SLE, dan masing-masing entitas autoimun tersebut saling mendukung untuk koinsidensi autoimun lainnya. Temuan-temuan ini memberikan gambaran bahwa pada praktik klinis diharapkan klinisi dapat meningkatkan skrining penyakit autoimun khususnya penyakit graves atau SLE saat menegakan diagnosis salah satu penyakit autoimun tersebut.\\[@xian2024\\] Laporan kasus ini memaparkan seorang pasien perempuan dengan krisis tiroid akibat penyakit graves yang sebelumnya diketahui memiliki penyakit SLE.\n",
    "\n",
    "## Laporan Kasus\n",
    "\n",
    "## Diskusi\n",
    "\n",
    "Penelitian terbaru oleh Xian et al menemukan bahwa SLE meningkatkan risiko penyaki graves (OR=1.13, 95% CI 1.05-1.22, p =0.003), dan berlaku juga sebaliknya penyakit graves meningkatkan risiko SLE (OR=1.27, 95% CI 1.09-1.48, p =0.018).\\[@xian2024\\] Hubungan sebab akibat antara penyakit graves dan SLE yang ditemukan dalam penelitian tersebut semakin menegaskan temuan epidemiologi sebelumnya. Patogenesis SLE dan penyakit graves mungkin dipengaruhi oleh mutasi pada gen HLA. Sebuah meta-analisis yang dilakukan sebelumnya menemukan bahwa mutasi pada HLA-DR3 dan HLA-DR15 secara signifikan meningkatkan kemungkinan SLE.\\[@xue_2018\\] Kehadiran gen HLA yang bermutasi dapat mengakibatkan perubahan kompleks HLA pada sel penyaji antigen, sehingga mempengaruhi interaksi antara sel B dan T. Situasi ini dapat menyebabkan disregulasi sel B yang reaktif terhadap diri sendiri dan produksi autoantibodi, yang dapat berfungsi sebagai mediator efek kausal SLE pada penyakit graves.\\[@xian2024\\]\n",
    "\n",
    "Selain gen terkait HLA, gen non-HLA juga diduga memainkan peran penting dalam interaksi antara SLE dan penyakit graves. Protein terkait limfosit T sitotoksik 4 (CTLA-4) adalah reseptor protein yang berfungsi sebagai cek poin pemeriksaan imun untuk menurunkan regulasi respons imun dengan mengikat ligan CD80 dan CD86 pada permukaan sel penyaji antigen, sehingga mengatur aktivasi sel T dan proliferasinya.\\[@syn2017\\] Mutasi pada gen CTLA-4 telah dikaitkan dengan SLE dan penyakit graves. Sebuah meta-analisis menunjukkan bahwa polimorfisme gen CTLA-4 pada populasi Asia dikaitkan dengan risiko SLE.\\[@zhai2013\\] Sebuah studi oleh Lee dkk. menemukan bahwa beberapa polimorfisme nukleotida tunggal CTLA-4 dikaitkan dengan penyakit graves dan penyakit tiroid autoimun seperti tiroiditis Hashimoto.\\[@lee2015\\] Mutasi pada gen CTLA-4 dapat menyebabkan defisiensi regulasi penurunan regulasi respon imun sel T, yang mengakibatkan hiperaktivasi sel T dan dengan demikian memicu penyakit autoimun. Faktor ini mungkin juga memainkan peran mediasi dalam hubungan antara penyakit graves dan SLE.\\[@xian2024\\]\n",
    "\n",
    "SLE dan penyakit graves ditandai oleh kelainan regulasi imun yang mungkin berhubungan erat dengan interferon tipe I (IFN-I).\\[@pan2019\\] Interferon tipe I, termasuk IFN-a, IFN-b, IFN-ϵ, IFN-k, dll., adalah sitokin yang memainkan peran penting dalam peradangan, regulasi kekebalan, pengenalan sel tumor, dan respons sel T. Dalam konteks penyakit autoimun, IFN-I dapat berkontribusi pada perkembangan SLE dengan meningkatkan presentasi antigen dan respon limfosit serta menginduksi ekspresi kemokin. IFN-I meningkatkan aktivasi sel B, diferensiasi, proliferasi dan produksi antibodi, dan dapat menginduksi ekspresi reseptor *Thyroid-timulating hormone*.\\[@ivashkiv2013\\] Dengan demikian, hal ini mungkin berdampak pada menignkatnya risiko penyakit graves.\n",
    "\n",
    "Selain regulasi imun yang menyimpang, SLE dan penyakit graves mungkin memiliki patogenesis yang sama terkait autoantibodi yang menyebabkan kerusakan jaringan. Sebuah meta-analisis yang dilakukan oleh Pan et al. menunjukkan bahwa kadar antibodi tiroid peroksidase (TPOAb) dan antibodi tiroglobulin (TgAb) jauh lebih tinggi pada pasien SLE dibandingkan dengan populasi sehat, yang menunjukkan adanya korelasi antara SLE dan penyakit tiroid autoimun.\\[@pan2015\\] Penelitian yang dilakukan oleh Lanzolla dkk. menunjukkan bahwa keberadaan antibodi antinuklear diamati pada sekitar 80% pasien yang didiagnosis dengan penyakit graves. Temuan ini menunjukkan bahwa penyakit graves berpotensi mempengaruhi perkembangan SLE melalui jalur autoantibodi.\\[@lanzolla2022\\]\n",
    "\n",
    "Jalur imunologi yang sama dalam perkembangan SLE dan penyakit graves ditunjukkan oleh adanya tumpang tindih kemokin dan sitokin spesifik. Penelitian terbaru berfokus pada interaksi antara CXCL10 dan CXCR3 dalam respon imun T helper 1 sangat penting dalam etiologi penyakit graves dan SLE.\\[@antonelli2014; @antonelli2020\\] Selain itu, dilaporkan bahwa peningkatan kadar IL-37 berkorelasi positif dengan konsentrasi TRAb dan derajat aktivitas SLE, sehingga ini menunjukkan bahwa IL-37 memainkan peran penting dalam terjadinya penyakit graves dan SLE.\\[@xu2015\\]\n",
    "\n",
    "## Ringkasan\n",
    "\n",
    "Penyakit Graves secara genetik diprediksi meningkatkan risiko SLE, dan berlaku juga sebaliknya. Laporan kasus ini diharapkan dapat memberikan dasar baru untuk skrining dan tatalaksana pasien dengan penyakit graves yang memiliki gejala baru yang tidak spesifik harus diskrining untuk SLE sehingga memfasilitasi diagnosis dan pengobatan tepat waktu dan menghindari penundaan atau eksaserbasi penyakit. Pada saat yang sama, fungsi tiroid juga perlu dipantau selama penatalaksanaan pasien SLE, sehingga dapat menyesuaikan rencana pengobatan dan menjamin kualitas hidup pasien.\n",
    "\n",
    "## Daftar Pustaka"
   ],
   "id": "6f9fbfef-f9be-4051-8882-6d6fa34ee533"
  }
 ],
 "nbformat": 4,
 "nbformat_minor": 5,
 "metadata": {}
}
