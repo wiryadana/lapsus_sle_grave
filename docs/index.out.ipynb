{
 "cells": [
  {
   "cell_type": "markdown",
   "metadata": {},
   "source": [
    "# Penyakit Graves pada seorang perempuan dengan Sistemik Lupus\n",
    "\n",
    "Eritematosus\n",
    "\n",
    "dr. Kadek Adit Wiryadana (Universitas Udayana)  \n",
    "dr. I Made Siswadi Semadi, M.Biomed, SpPD, K-EMD (Universitas Udayana)  \n",
    "dr. Pande Ketut Kurniari, SpPD, K-R (Universitas Udayana)"
   ],
   "id": "a83b2add-23a5-4d66-a213-7ea1a7c49ca0"
  },
  {
   "cell_type": "code",
   "execution_count": null,
   "metadata": {},
   "outputs": [
    {
     "output_type": "stream",
     "name": "stderr",
     "text": [
      "── Attaching core tidyverse packages ──────────────────────── tidyverse 2.0.0 ──\n",
      "✔ dplyr     1.1.4     ✔ readr     2.1.5\n",
      "✔ forcats   1.0.0     ✔ stringr   1.5.0\n",
      "✔ ggplot2   3.5.1     ✔ tibble    3.2.1\n",
      "✔ lubridate 1.9.3     ✔ tidyr     1.3.1\n",
      "✔ purrr     1.0.2     \n",
      "── Conflicts ────────────────────────────────────────── tidyverse_conflicts() ──\n",
      "✖ purrr::%||%()   masks base::%||%()\n",
      "✖ dplyr::filter() masks stats::filter()\n",
      "✖ dplyr::lag()    masks stats::lag()\n",
      "ℹ Use the conflicted package (<http://conflicted.r-lib.org/>) to force all conflicts to become errors"
     ]
    }
   ],
   "source": [
    "library(\"tidyverse\")"
   ],
   "id": "7bbaa2ae-836d-4704-a811-f79cfecd817d"
  },
  {
   "cell_type": "markdown",
   "metadata": {},
   "source": [
    "## Abstrak\n",
    "\n",
    "## Pendahuluan\n",
    "\n",
    "Koinsidensi penyakit graves dan sistemik lupus eritematosus (SLE) belakangan ini mendapat perhatian lebih karena ditemukan memiliki hubungan yang tidak sekedar sesuatu yang terjadi secara acak. Hubungan kausal antara kedua entitas penyakit automimun tersebut masih belum banyak diketahui dan saat ini masih terdapat berbagai penelitian yang mendalami hal tersebut.<sup>[1](#ref-xian2024)</sup> Penyakit graves merupakan salah satu penyakit autoimun pada organ endokrin thyroid dan merupakan penyebab utama hipertiroidisme.<sup>[2](#ref-smith2016)</sup> Insiden enyakit Graves sebagai penyakit autoimun termasuk cukup tinggi dengan rentang 20 - 50 kasus per 100.000 individual serta tingkat prevalensi diperkirakan 1 - 1.5%.<sup>[3](#ref-davies2020)</sup> Penyakit graves memilki target organ khusus, namun koinsidensi dengan penyakit autoimun lain seperti SLE, Rheumatoid arthritis, multiple sclerosis, diabetes tipe 1 dan lainnya diperkirakan sekitar 16.7% dari total pasien dengan penyakit graves. Data lebih lanjut dari laporan serial kasus terbaru. juga menunjukan bahwa persentase pasien dengan penyakit Graves juga ditemukan memiliki 3 penyakit autoimun lain sebesar 1.5%.<sup>[4](#ref-ferrari2019)</sup>\n",
    "\n",
    "SLE merupakan penyakit yang memiliki variasi spektrum klinis yang luas akibat terget organ multipel dan heterogen. Penelitian kohort multisenter di China menemukan bahwa individu dengan penyakit graves lebih rentan mengalami SLE dibanding individu kontrol yang sehat.<sup>[5](#ref-lee2020)</sup> Penelitian terbaru dari Xian et al dengan analisis randomisasi mendelian menemukan bahwa terdapat korelasi antara penyakit graves dan SLE, dan masing-masing entitas autoimun tersebut saling mendukung untuk koinsidensi autoimun lainnya. Temuan-temuan ini memberikan gambaran bahwa pada praktik klinis diharapkan klinisi dapat meningkatkan skrining penyakit autoimun khususnya penyakit graves atau SLE saat menegakan diagnosis salah satu penyakit autoimun tersebut.<sup>[1](#ref-xian2024)</sup> Laporan kasus ini memaparkan seorang pasien perempuan dengan krisis tiroid akibat penyakit graves yang sebelumnya diketahui memiliki penyakit SLE.\n",
    "\n",
    "## Laporan Kasus\n",
    "\n",
    "## Ringkasan\n",
    "\n",
    "## Daftar Pustaka\n",
    "\n",
    "<span class=\"csl-left-margin\">1. </span><span class=\"csl-right-inline\">Xian W, Liu B, Li J, Yang Y, Hong S, Xiao H, et al. Graves’ disease and systemic lupus erythematosus: A mendelian randomization study. Frontiers in Immunology. 2024;15. Diakses pada: <http://dx.doi.org/10.3389/fimmu.2024.1273358></span>\n",
    "\n",
    "<span class=\"csl-left-margin\">2. </span><span class=\"csl-right-inline\">Smith TJ, Hegedüs L. Graves’ Disease. Longo DL, editor. New England Journal of Medicine. 2016;375(16):1552–65. Diakses pada: <http://dx.doi.org/10.1056/NEJMra1510030></span>\n",
    "\n",
    "<span class=\"csl-left-margin\">3. </span><span class=\"csl-right-inline\">Davies TF, Andersen S, Latif R, Nagayama Y, Barbesino G, Brito M, et al. Graves’ disease. Nature Reviews Disease Primers. 2020;6(1). Diakses pada: <http://dx.doi.org/10.1038/s41572-020-0184-y></span>\n",
    "\n",
    "<span class=\"csl-left-margin\">4. </span><span class=\"csl-right-inline\">Ferrari SM, Fallahi P, Ruffilli I, Elia G, Ragusa F, Benvenga S, et al. The association of other autoimmune diseases in patients with Graves’ disease (with or without ophthalmopathy): Review of the literature and report of a large series. Autoimmunity Reviews. 2019;18(3):287–92. Diakses pada: <http://dx.doi.org/10.1016/j.autrev.2018.10.001></span>\n",
    "\n",
    "<span class=\"csl-left-margin\">5. </span><span class=\"csl-right-inline\">Lee C, Chen S-F, Yang Y-C, Hsu CY, Shen Y-C. Association between Graves’ disease and risk of incident systemic lupus erythematosus: A nationwide population-based cohort study. International Journal of Rheumatic Diseases. 2020;24(2):240–5. Diakses pada: <http://dx.doi.org/10.1111/1756-185x.14027></span>"
   ],
   "id": "0cf84a56-0fd3-4d74-b750-0a335a3adecd"
  }
 ],
 "nbformat": 4,
 "nbformat_minor": 5,
 "metadata": {}
}
