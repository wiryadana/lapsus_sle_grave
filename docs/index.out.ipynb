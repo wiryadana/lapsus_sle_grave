{
 "cells": [
  {
   "cell_type": "markdown",
   "metadata": {},
   "source": [
    "# Penyakit Graves pada seorang perempuan dengan Sistemik Lupus\n",
    "\n",
    "Eritematosus\n",
    "\n",
    "dr. Kadek Adit Wiryadana (Universitas Udayana)  \n",
    "dr. I Made Siswadi Semadi, M.Biomed, SpPD, K-EMD (Universitas Udayana)  \n",
    "dr. Pande Ketut Kurniari, SpPD, K-R (Universitas Udayana)"
   ],
   "id": "7db9efd3-3010-48a3-b520-0c8561f31a1a"
  },
  {
   "cell_type": "code",
   "execution_count": null,
   "metadata": {},
   "outputs": [
    {
     "output_type": "stream",
     "name": "stderr",
     "text": [
      "── Attaching core tidyverse packages ──────────────────────── tidyverse 2.0.0 ──\n",
      "✔ dplyr     1.1.4     ✔ readr     2.1.5\n",
      "✔ forcats   1.0.0     ✔ stringr   1.5.0\n",
      "✔ ggplot2   3.5.1     ✔ tibble    3.2.1\n",
      "✔ lubridate 1.9.3     ✔ tidyr     1.3.1\n",
      "✔ purrr     1.0.2     \n",
      "── Conflicts ────────────────────────────────────────── tidyverse_conflicts() ──\n",
      "✖ purrr::%||%()   masks base::%||%()\n",
      "✖ dplyr::filter() masks stats::filter()\n",
      "✖ dplyr::lag()    masks stats::lag()\n",
      "ℹ Use the conflicted package (<http://conflicted.r-lib.org/>) to force all conflicts to become errors"
     ]
    }
   ],
   "source": [
    "library(\"tidyverse\")"
   ],
   "id": "db95b7b6-0867-4eaf-9651-e369af59e9db"
  },
  {
   "cell_type": "markdown",
   "metadata": {},
   "source": [
    "## Abstrak\n",
    "\n",
    "## Pendahuluan\n",
    "\n",
    "Koinsidensi penyakit graves dan sistemik lupus eritematosus (SLE) belakangan ini mendapat perhatian lebih karena ditemukan memiliki hubungan yang tidak sekedar sesuatu yang terjadi secara acak. Hubungan kausal antara kedua entitas penyakit automimun tersebut masih belum banyak diketahui dan saat ini masih terdapat berbagai penelitian yang mendalami hal tersebut.<sup>[1](#ref-xian2024)</sup> Penyakit graves merupakan salah satu penyakit autoimun pada organ endokrin thyroid dan merupakan penyebab utama hipertiroidisme.<sup>[2](#ref-smith2016)</sup> Insiden enyakit Graves sebagai penyakit autoimun termasuk cukup tinggi dengan rentang 20 - 50 kasus per 100.000 individual serta tingkat prevalensi diperkirakan 1 - 1.5%.<sup>[3](#ref-davies2020)</sup> Penyakit graves memilki target organ khusus, namun koinsidensi dengan penyakit autoimun lain seperti SLE, Rheumatoid arthritis, multiple sclerosis, diabetes tipe 1 dan lainnya diperkirakan sekitar 16.7% dari total pasien dengan penyakit graves. Data lebih lanjut dari laporan serial kasus terbaru. juga menunjukan bahwa persentase pasien dengan penyakit Graves juga ditemukan memiliki 3 penyakit autoimun lain sebesar 1.5%.<sup>[4](#ref-ferrari2019)</sup>\n",
    "\n",
    "SLE merupakan penyakit yang memiliki variasi spektrum klinis yang luas akibat terget organ multipel dan heterogen. Penelitian kohort multisenter di China menemukan bahwa individu dengan penyakit graves lebih rentan mengalami SLE dibanding individu kontrol yang sehat.<sup>[5](#ref-lee2020)</sup> Penelitian terbaru dari Xian et al dengan analisis randomisasi mendelian menemukan bahwa terdapat korelasi antara penyakit graves dan SLE, dan masing-masing entitas autoimun tersebut saling mendukung untuk koinsidensi autoimun lainnya. Temuan-temuan ini memberikan gambaran bahwa pada praktik klinis diharapkan klinisi dapat meningkatkan skrining penyakit autoimun khususnya penyakit graves atau SLE saat menegakan diagnosis salah satu penyakit autoimun tersebut.<sup>[1](#ref-xian2024)</sup> Laporan kasus ini memaparkan seorang pasien perempuan dengan krisis tiroid akibat penyakit graves yang sebelumnya diketahui memiliki penyakit SLE.\n",
    "\n",
    "## Laporan Kasus\n",
    "\n",
    "## Diskusi\n",
    "\n",
    "Penelitian terbaru oleh Xian et al menemukan bahwa SLE meningkatkan risiko penyaki graves (OR=1.13, 95% CI 1.05-1.22, p =0.003), dan berlaku juga sebaliknya penyakit graves meningkatkan risiko SLE (OR=1.27, 95% CI 1.09-1.48, p =0.018).<sup>[1](#ref-xian2024)</sup> Hubungan sebab akibat antara penyakit graves dan SLE yang ditemukan dalam penelitian tersebut semakin menegaskan temuan epidemiologi sebelumnya. Patogenesis SLE dan penyakit graves mungkin dipengaruhi oleh mutasi pada gen HLA. Sebuah meta-analisis yang dilakukan sebelumnya menemukan bahwa mutasi pada HLA-DR3 dan HLA-DR15 secara signifikan meningkatkan kemungkinan SLE.<sup>[6](#ref-xue_2018)</sup> Kehadiran gen HLA yang bermutasi dapat mengakibatkan perubahan kompleks HLA pada sel penyaji antigen, sehingga mempengaruhi interaksi antara sel B dan T. Situasi ini dapat menyebabkan disregulasi sel B yang reaktif terhadap diri sendiri dan produksi autoantibodi, yang dapat berfungsi sebagai mediator efek kausal SLE pada penyakit graves.\\[<sup>[1](#ref-xian2024)</sup>\\]\n",
    "\n",
    "Selain gen terkait HLA, gen non-HLA juga diduga memainkan peran penting dalam interaksi antara SLE dan penyakit graves. Protein terkait limfosit T sitotoksik 4 (CTLA-4) adalah reseptor protein yang berfungsi sebagai cek poin pemeriksaan imun untuk menurunkan regulasi respons imun dengan mengikat ligan CD80 dan CD86 pada permukaan sel penyaji antigen, sehingga mengatur aktivasi sel T dan proliferasinya.<sup>[7](#ref-syn2017)</sup> Mutasi pada gen CTLA-4 telah dikaitkan dengan SLE dan penyakit graves. Sebuah meta-analisis menunjukkan bahwa polimorfisme gen CTLA-4 pada populasi Asia dikaitkan dengan risiko SLE.<sup>[8](#ref-zhai2013)</sup> Sebuah studi oleh Lee dkk. menemukan bahwa beberapa polimorfisme nukleotida tunggal CTLA-4 dikaitkan dengan penyakit graves dan penyakit tiroid autoimun seperti tiroiditis Hashimoto.<sup>[9](#ref-lee2015)</sup> Mutasi pada gen CTLA-4 dapat menyebabkan defisiensi regulasi penurunan regulasi respon imun sel T, yang mengakibatkan hiperaktivasi sel T dan dengan demikian memicu penyakit autoimun. Faktor ini mungkin juga memainkan peran mediasi dalam hubungan antara penyakit graves dan SLE.<sup>[1](#ref-xian2024)</sup>\n",
    "\n",
    "SLE dan penyakit graves ditandai oleh kelainan regulasi imun yang mungkin berhubungan erat dengan interferon tipe I (IFN-I).<sup>[10](#ref-pan2019)</sup> Interferon tipe I, termasuk IFN-a, IFN-b, IFN-ϵ, IFN-k, dll., adalah sitokin yang memainkan peran penting dalam peradangan, regulasi kekebalan, pengenalan sel tumor, dan respons sel T. Dalam konteks penyakit autoimun, IFN-I dapat berkontribusi pada perkembangan SLE dengan meningkatkan presentasi antigen dan respon limfosit serta menginduksi ekspresi kemokin. IFN-I meningkatkan aktivasi sel B, diferensiasi, proliferasi dan produksi antibodi, dan dapat menginduksi ekspresi reseptor *Thyroid-timulating hormone*.<sup>[11](#ref-ivashkiv2013)</sup> Dengan demikian, hal ini mungkin berdampak pada menignkatnya risiko penyakit graves.\n",
    "\n",
    "Selain regulasi imun yang menyimpang, SLE dan penyakit graves mungkin memiliki patogenesis yang sama terkait autoantibodi yang menyebabkan kerusakan jaringan. Sebuah meta-analisis yang dilakukan oleh Pan et al. menunjukkan bahwa kadar antibodi tiroid peroksidase (TPOAb) dan antibodi tiroglobulin (TgAb) jauh lebih tinggi pada pasien SLE dibandingkan dengan populasi sehat, yang menunjukkan adanya korelasi antara SLE dan penyakit tiroid autoimun.<sup>[12](#ref-pan2015)</sup> Penelitian yang dilakukan oleh Lanzolla dkk. menunjukkan bahwa keberadaan antibodi antinuklear diamati pada sekitar 80% pasien yang didiagnosis dengan penyakit graves. Temuan ini menunjukkan bahwa penyakit graves berpotensi mempengaruhi perkembangan SLE melalui jalur autoantibodi.<sup>[13](#ref-lanzolla2022)</sup>\n",
    "\n",
    "Jalur imunologi yang sama dalam perkembangan SLE dan penyakit graves ditunjukkan oleh adanya tumpang tindih kemokin dan sitokin spesifik. Penelitian terbaru berfokus pada interaksi antara CXCL10 dan CXCR3 dalam respon imun T helper 1 sangat penting dalam etiologi penyakit graves dan SLE.<sup>[14](#ref-antonelli2014),[15](#ref-antonelli2020)</sup> Selain itu, dilaporkan bahwa peningkatan kadar IL-37 berkorelasi positif dengan konsentrasi TRAb dan derajat aktivitas SLE, sehingga ini menunjukkan bahwa IL-37 memainkan peran penting dalam terjadinya penyakit graves dan SLE.<sup>[16](#ref-xu2015)</sup>\n",
    "\n",
    "## Ringkasan\n",
    "\n",
    "Penyakit Graves secara genetik diprediksi meningkatkan risiko SLE, dan berlaku juga sebaliknya. Laporan kasus ini diharapkan dapat memberikan dasar baru untuk skrining dan tatalaksana pasien dengan penyakit graves yang memiliki gejala baru yang tidak spesifik harus diskrining untuk SLE sehingga memfasilitasi diagnosis dan pengobatan tepat waktu dan menghindari penundaan atau eksaserbasi penyakit. Pada saat yang sama, fungsi tiroid juga perlu dipantau selama penatalaksanaan pasien SLE, sehingga dapat menyesuaikan rencana pengobatan dan menjamin kualitas hidup pasien.\n",
    "\n",
    "## Daftar Pustaka\n",
    "\n",
    "<span class=\"csl-left-margin\">1. </span><span class=\"csl-right-inline\">Xian W, Liu B, Li J, Yang Y, Hong S, Xiao H, et al. Graves’ disease and systemic lupus erythematosus: A mendelian randomization study. Frontiers in Immunology. 2024;15. Diakses pada: <http://dx.doi.org/10.3389/fimmu.2024.1273358></span>\n",
    "\n",
    "<span class=\"csl-left-margin\">2. </span><span class=\"csl-right-inline\">Smith TJ, Hegedüs L. Graves’ Disease. Longo DL, editor. New England Journal of Medicine. 2016;375(16):1552–65. Diakses pada: <http://dx.doi.org/10.1056/NEJMra1510030></span>\n",
    "\n",
    "<span class=\"csl-left-margin\">3. </span><span class=\"csl-right-inline\">Davies TF, Andersen S, Latif R, Nagayama Y, Barbesino G, Brito M, et al. Graves’ disease. Nature Reviews Disease Primers. 2020;6(1). Diakses pada: <http://dx.doi.org/10.1038/s41572-020-0184-y></span>\n",
    "\n",
    "<span class=\"csl-left-margin\">4. </span><span class=\"csl-right-inline\">Ferrari SM, Fallahi P, Ruffilli I, Elia G, Ragusa F, Benvenga S, et al. The association of other autoimmune diseases in patients with Graves’ disease (with or without ophthalmopathy): Review of the literature and report of a large series. Autoimmunity Reviews. 2019;18(3):287–92. Diakses pada: <http://dx.doi.org/10.1016/j.autrev.2018.10.001></span>\n",
    "\n",
    "<span class=\"csl-left-margin\">5. </span><span class=\"csl-right-inline\">Lee C, Chen S-F, Yang Y-C, Hsu CY, Shen Y-C. Association between Graves’ disease and risk of incident systemic lupus erythematosus: A nationwide population-based cohort study. International Journal of Rheumatic Diseases. 2020;24(2):240–5. Diakses pada: <http://dx.doi.org/10.1111/1756-185x.14027></span>\n",
    "\n",
    "<span class=\"csl-left-margin\">6. </span><span class=\"csl-right-inline\">Xue K, Niu W-Q, Cui Y. [Association of HLA-DR3 and HLA-DR15 Polymorphisms with Risk of Systemic Lupus Erythematosus.](https://doi.org/10.4103/0366-6999.246058) Chinese medical journal. 2018;131(23):2844–51. </span>\n",
    "\n",
    "<span class=\"csl-left-margin\">7. </span><span class=\"csl-right-inline\">Syn NL, Teng MWL, Mok TSK, Soo RA. De-novo and acquired resistance to immune checkpoint targeting. The Lancet Oncology. 2017;18(12):e731–41. Diakses pada: <http://dx.doi.org/10.1016/s1470-2045(17)30607-1></span>\n",
    "\n",
    "<span class=\"csl-left-margin\">8. </span><span class=\"csl-right-inline\">Zhai J-X, Zou L-W, Zhang Z-X, Fan W-J, Wang H-Y, Liu T, et al. CTLA-4 polymorphisms and systemic lupus erythematosus (SLE): a meta-analysis. Molecular Biology Reports. 2013;40(9):5213–23. Diakses pada: <http://dx.doi.org/10.1007/s11033-012-2125-7></span>\n",
    "\n",
    "<span class=\"csl-left-margin\">9. </span><span class=\"csl-right-inline\">Lee HJ, Li CW, Hammerstad SS, Stefan M, Tomer Y. Immunogenetics of autoimmune thyroid diseases: A comprehensive review. Journal of Autoimmunity. 2015;64:82–90. Diakses pada: <http://dx.doi.org/10.1016/j.jaut.2015.07.009></span>\n",
    "\n",
    "<span class=\"csl-left-margin\">10. </span><span class=\"csl-right-inline\">Pan L, Lu M-P, Wang J-H, Xu M, Yang S-R. Immunological pathogenesis and treatment of systemic lupus erythematosus. World Journal of Pediatrics. 2019;16(1):19–30. Diakses pada: <http://dx.doi.org/10.1007/s12519-019-00229-3></span>\n",
    "\n",
    "<span class=\"csl-left-margin\">11. </span><span class=\"csl-right-inline\">Ivashkiv LB, Donlin LT. Regulation of type I interferon responses. Nature Reviews Immunology. 2013;14(1):36–49. Diakses pada: <http://dx.doi.org/10.1038/nri3581></span>\n",
    "\n",
    "<span class=\"csl-left-margin\">12. </span><span class=\"csl-right-inline\">Pan X-F, Gu J-Q, Shan Z-Y. Patients with Systemic Lupus Erythematosus Have Higher Prevalence of Thyroid Autoantibodies: A Systematic Review and Meta-Analysis. Assassi S, editor. PLOS ONE. 2015;10(4):e0123291. Diakses pada: <http://dx.doi.org/10.1371/journal.pone.0123291></span>\n",
    "\n",
    "<span class=\"csl-left-margin\">13. </span><span class=\"csl-right-inline\">Lanzolla G, Puccinelli L, Giudetti M, Comi S, Menconi F, Maglionico MN, et al. Anti-nuclear autoantibodies in Graves’ disease and Graves’ orbitopathy. Journal of Endocrinological Investigation. 2022;46(2):337–44. Diakses pada: <http://dx.doi.org/10.1007/s40618-022-01906-3></span>\n",
    "\n",
    "<span class=\"csl-left-margin\">14. </span><span class=\"csl-right-inline\">Antonelli A, Ferrari SM, Giuggioli D, Ferrannini E, Ferri C, Fallahi P. Chemokine (CXC motif) ligand (CXCL)10 in autoimmune diseases. Autoimmunity Reviews. 2014;13(3):272–80. Diakses pada: <http://dx.doi.org/10.1016/j.autrev.2013.10.010></span>\n",
    "\n",
    "<span class=\"csl-left-margin\">15. </span><span class=\"csl-right-inline\">Antonelli A, Fallahi P, Elia G, Ragusa F, Paparo SR, Ruffilli I, et al. Graves’ disease: Clinical manifestations, immune pathogenesis (cytokines and chemokines) and therapy. Best Practice & Research Clinical Endocrinology & Metabolism. 2020;34(1):101388. Diakses pada: <http://dx.doi.org/10.1016/j.beem.2020.101388></span>\n",
    "\n",
    "<span class=\"csl-left-margin\">16. </span><span class=\"csl-right-inline\">Xu W-D, Zhao Y, Liu Y. Insights into IL-37, the role in autoimmune diseases. Autoimmunity Reviews. 2015;14(12):1170–5. Diakses pada: <http://dx.doi.org/10.1016/j.autrev.2015.08.006></span>"
   ],
   "id": "ccb0f554-de80-40df-85e1-56abc530b400"
  }
 ],
 "nbformat": 4,
 "nbformat_minor": 5,
 "metadata": {}
}
